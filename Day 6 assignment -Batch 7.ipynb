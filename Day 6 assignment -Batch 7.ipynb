{
 "cells": [
  {
   "cell_type": "code",
   "execution_count": 13,
   "metadata": {},
   "outputs": [
    {
     "name": "stdout",
     "output_type": "stream",
     "text": [
      "Hello!!! Welcome to the Deposit & Withdrawal Machine\n",
      "Enter amount to be Deposited: 10000\n",
      "\n",
      " Amount Deposited: 10000.0\n",
      "Enter amount to be Withdrawn: 11000\n",
      "\n",
      " Insufficient balance \n",
      "\n",
      " Net Available Balance= 10000.0\n"
     ]
    }
   ],
   "source": [
    "#Question 1\n",
    "\n",
    "#case 1\n",
    "\n",
    "class Bank_Account: \n",
    "    def __init__(self ): \n",
    "        self.balance=0\n",
    "\n",
    "    def deposit( self ): \n",
    "        amount=float(input(\"Enter amount to be Deposited: \")) \n",
    "        self.balance += amount \n",
    "        print(\"\\n Amount Deposited:\",amount) \n",
    "\n",
    "    def withdraw( self ): \n",
    "        amount = float(input(\"Enter amount to be Withdrawn: \")) \n",
    "        if  self.balance>=amount:\n",
    "            self.balance-=amount \n",
    "            print(\"\\n You Withdrew:\", amount) \n",
    "        else: \n",
    "            print(\"\\n Insufficient balance \") \n",
    "\n",
    "    def display(self): \n",
    "        print(\"\\n Net Available Balance=\",self.balance) \n",
    "\n",
    "\n",
    "s = Bank_Account() \n",
    "\n",
    "s.deposit()\n",
    "s.withdraw()\n",
    "s.display()"
   ]
  },
  {
   "cell_type": "code",
   "execution_count": 14,
   "metadata": {},
   "outputs": [
    {
     "name": "stdout",
     "output_type": "stream",
     "text": [
      "Hello!!! Welcome to the Deposit & Withdrawal Machine\n",
      "Enter amount to be Deposited: 10\n",
      "\n",
      " Amount Deposited: 10.0\n",
      "Enter amount to be Withdrawn: 5\n",
      "\n",
      " You Withdrew: 5.0\n",
      "\n",
      " Net Available Balance= 5.0\n"
     ]
    }
   ],
   "source": [
    "#case 2\n",
    "\n",
    "class Bank_Account: \n",
    "    def __init__(self): \n",
    "        self.balance=0\n",
    "        print(\"Hello!!! Welcome to the Deposit & Withdrawal Machine\") \n",
    "\n",
    "    def deposit(self): \n",
    "        amount=float(input(\"Enter amount to be Deposited: \")) \n",
    "        self.balance += amount \n",
    "        print(\"\\n Amount Deposited:\",amount) \n",
    "\n",
    "    def withdraw(self): \n",
    "        amount = float(input(\"Enter amount to be Withdrawn: \")) \n",
    "        if self.balance>=amount: \n",
    "            self.balance-=amount \n",
    "            print(\"\\n You Withdrew:\", amount) \n",
    "        else: \n",
    "            print(\"\\n Insufficient balance \") \n",
    "\n",
    "    def display(self): \n",
    "        print(\"\\n Net Available Balance=\",self.balance) \n",
    "\n",
    "\n",
    "s = Bank_Account() \n",
    "\n",
    "\n",
    "s.deposit() \n",
    "s.withdraw() \n",
    "s.display() \n"
   ]
  },
  {
   "cell_type": "code",
   "execution_count": 15,
   "metadata": {},
   "outputs": [
    {
     "name": "stdout",
     "output_type": "stream",
     "text": [
      "enter radius5\n",
      "enter height12\n",
      "enter slat height13\n",
      "Volume Of Cone :  314.15926535897927\n",
      "Surface Area Of Cone :  282.7433388230814\n"
     ]
    }
   ],
   "source": [
    "#Question 2\n",
    "\n",
    "import math \n",
    "pi = math.pi \n",
    "  \n",
    "\n",
    "def volume(r, h): \n",
    "    return (1 / 3) * pi * r * r * h \n",
    "  \n",
    "def surfacearea(r, s): \n",
    "    return pi * r * s + pi * r * r \n",
    "  \n",
    "radius = float(input(\"enter radius\")) \n",
    "height = float(input(\"enter height\")) \n",
    "slat_height = float(input(\"enter slat height\")) \n",
    "print( \"Volume Of Cone : \", volume(radius, height) ) \n",
    "print( \"Surface Area Of Cone : \", surfacearea(radius, slat_height) ) "
   ]
  },
  {
   "cell_type": "code",
   "execution_count": null,
   "metadata": {},
   "outputs": [],
   "source": []
  }
 ],
 "metadata": {
  "kernelspec": {
   "display_name": "Python 3",
   "language": "python",
   "name": "python3"
  },
  "language_info": {
   "codemirror_mode": {
    "name": "ipython",
    "version": 3
   },
   "file_extension": ".py",
   "mimetype": "text/x-python",
   "name": "python",
   "nbconvert_exporter": "python",
   "pygments_lexer": "ipython3",
   "version": "3.6.5"
  }
 },
 "nbformat": 4,
 "nbformat_minor": 2
}
