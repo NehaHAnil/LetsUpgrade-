{
 "cells": [
  {
   "cell_type": "code",
   "execution_count": 50,
   "metadata": {},
   "outputs": [
    {
     "name": "stdout",
     "output_type": "stream",
     "text": [
      "Inside decorator\n",
      "Inside inner function\n",
      "I like letsupgrade\n",
      "Inside actual function\n"
     ]
    }
   ],
   "source": [
    "#Question 1\n",
    "\n",
    "def decorator(*args, **kwargs): \n",
    "    print(\"Inside decorator\") \n",
    "      \n",
    "    def inner(func): \n",
    "          \n",
    "        print(\"Inside inner function\") \n",
    "        print(\"I like\", kwargs['like'])  \n",
    "          \n",
    "        func() \n",
    "          \n",
    "      \n",
    "    return inner \n",
    "  \n",
    "@decorator(like = \"letsupgrade\") \n",
    "def my_func(): \n",
    "    print(\"Inside actual function\")"
   ]
  },
  {
   "cell_type": "code",
   "execution_count": 27,
   "metadata": {},
   "outputs": [],
   "source": [
    "#Question 2\n",
    "\n",
    "file = open(\"letsupgrade.txt\",\"w\")\n",
    "file.close()"
   ]
  },
  {
   "cell_type": "code",
   "execution_count": 31,
   "metadata": {},
   "outputs": [
    {
     "name": "stdout",
     "output_type": "stream",
     "text": [
      "enter a text--Hi\n",
      "Sorry!!! This is in read only mode\n"
     ]
    }
   ],
   "source": [
    "file= open(\"letsupgrade.txt\",\"r\")\n",
    "try:\n",
    "    file.write(input(\"enter a text--\"))\n",
    "except:\n",
    "    print(\"Sorry!!! This is in read only mode\")\n",
    "file.close()"
   ]
  },
  {
   "cell_type": "code",
   "execution_count": null,
   "metadata": {},
   "outputs": [],
   "source": []
  }
 ],
 "metadata": {
  "kernelspec": {
   "display_name": "Python 3",
   "language": "python",
   "name": "python3"
  },
  "language_info": {
   "codemirror_mode": {
    "name": "ipython",
    "version": 3
   },
   "file_extension": ".py",
   "mimetype": "text/x-python",
   "name": "python",
   "nbconvert_exporter": "python",
   "pygments_lexer": "ipython3",
   "version": "3.6.5"
  }
 },
 "nbformat": 4,
 "nbformat_minor": 2
}
